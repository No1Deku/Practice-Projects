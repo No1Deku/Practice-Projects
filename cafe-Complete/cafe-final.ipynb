{
 "cells": [
  {
   "cell_type": "markdown",
   "id": "f3ffd75b",
   "metadata": {},
   "source": [
    "Project STATUS : 90% Complete :Requires Final Touch-ups before Deployment\n"
   ]
  },
  {
   "cell_type": "code",
   "execution_count": 7,
   "id": "eeeba9f6",
   "metadata": {},
   "outputs": [
    {
     "ename": "ModuleNotFoundError",
     "evalue": "No module named 'pandas'",
     "output_type": "error",
     "traceback": [
      "\u001b[31m---------------------------------------------------------------------------\u001b[39m",
      "\u001b[31mModuleNotFoundError\u001b[39m                       Traceback (most recent call last)",
      "\u001b[36mCell\u001b[39m\u001b[36m \u001b[39m\u001b[32mIn[7]\u001b[39m\u001b[32m, line 1\u001b[39m\n\u001b[32m----> \u001b[39m\u001b[32m1\u001b[39m \u001b[38;5;28;01mimport\u001b[39;00m\u001b[38;5;250m \u001b[39m\u001b[34;01mpandas\u001b[39;00m\u001b[38;5;250m \u001b[39m\u001b[38;5;28;01mas\u001b[39;00m\u001b[38;5;250m \u001b[39m\u001b[34;01mpd\u001b[39;00m\n\u001b[32m      2\u001b[39m \u001b[38;5;28;01mimport\u001b[39;00m\u001b[38;5;250m \u001b[39m\u001b[34;01mnumpy\u001b[39;00m\u001b[38;5;250m \u001b[39m\u001b[38;5;28;01mas\u001b[39;00m\u001b[38;5;250m \u001b[39m\u001b[34;01mnp\u001b[39;00m\n\u001b[32m      3\u001b[39m \u001b[38;5;28;01mimport\u001b[39;00m\u001b[38;5;250m \u001b[39m\u001b[34;01mskimpy\u001b[39;00m\u001b[38;5;250m \u001b[39m\u001b[38;5;28;01mas\u001b[39;00m\u001b[38;5;250m \u001b[39m\u001b[34;01msk\u001b[39;00m\n",
      "\u001b[31mModuleNotFoundError\u001b[39m: No module named 'pandas'"
     ]
    }
   ],
   "source": [
    "import pandas as pd\n",
    "import numpy as np\n",
    "import skimpy as sk\n",
    "import janitor\n",
    "import seaborn as sns\n",
    "import matplotlib.pyplot as plt"
   ]
  },
  {
   "cell_type": "code",
   "execution_count": null,
   "id": "77ed5e24",
   "metadata": {},
   "outputs": [
    {
     "data": {
      "text/html": [
       "<div>\n",
       "<style scoped>\n",
       "    .dataframe tbody tr th:only-of-type {\n",
       "        vertical-align: middle;\n",
       "    }\n",
       "\n",
       "    .dataframe tbody tr th {\n",
       "        vertical-align: top;\n",
       "    }\n",
       "\n",
       "    .dataframe thead th {\n",
       "        text-align: right;\n",
       "    }\n",
       "</style>\n",
       "<table border=\"1\" class=\"dataframe\">\n",
       "  <thead>\n",
       "    <tr style=\"text-align: right;\">\n",
       "      <th></th>\n",
       "      <th>Transaction ID</th>\n",
       "      <th>Item</th>\n",
       "      <th>Quantity</th>\n",
       "      <th>Price Per Unit</th>\n",
       "      <th>Total Spent</th>\n",
       "      <th>Payment Method</th>\n",
       "      <th>Location</th>\n",
       "      <th>Transaction Date</th>\n",
       "    </tr>\n",
       "  </thead>\n",
       "  <tbody>\n",
       "    <tr>\n",
       "      <th>0</th>\n",
       "      <td>TXN_1961373</td>\n",
       "      <td>Coffee</td>\n",
       "      <td>2</td>\n",
       "      <td>2.0</td>\n",
       "      <td>4.0</td>\n",
       "      <td>Credit Card</td>\n",
       "      <td>Takeaway</td>\n",
       "      <td>2023-09-08</td>\n",
       "    </tr>\n",
       "    <tr>\n",
       "      <th>1</th>\n",
       "      <td>TXN_4977031</td>\n",
       "      <td>Cake</td>\n",
       "      <td>4</td>\n",
       "      <td>3.0</td>\n",
       "      <td>12.0</td>\n",
       "      <td>Cash</td>\n",
       "      <td>In-store</td>\n",
       "      <td>2023-05-16</td>\n",
       "    </tr>\n",
       "    <tr>\n",
       "      <th>2</th>\n",
       "      <td>TXN_4271903</td>\n",
       "      <td>Cookie</td>\n",
       "      <td>4</td>\n",
       "      <td>1.0</td>\n",
       "      <td>ERROR</td>\n",
       "      <td>Credit Card</td>\n",
       "      <td>In-store</td>\n",
       "      <td>2023-07-19</td>\n",
       "    </tr>\n",
       "    <tr>\n",
       "      <th>3</th>\n",
       "      <td>TXN_7034554</td>\n",
       "      <td>Salad</td>\n",
       "      <td>2</td>\n",
       "      <td>5.0</td>\n",
       "      <td>10.0</td>\n",
       "      <td>UNKNOWN</td>\n",
       "      <td>UNKNOWN</td>\n",
       "      <td>2023-04-27</td>\n",
       "    </tr>\n",
       "    <tr>\n",
       "      <th>4</th>\n",
       "      <td>TXN_3160411</td>\n",
       "      <td>Coffee</td>\n",
       "      <td>2</td>\n",
       "      <td>2.0</td>\n",
       "      <td>4.0</td>\n",
       "      <td>Digital Wallet</td>\n",
       "      <td>In-store</td>\n",
       "      <td>2023-06-11</td>\n",
       "    </tr>\n",
       "  </tbody>\n",
       "</table>\n",
       "</div>"
      ],
      "text/plain": [
       "  Transaction ID    Item Quantity Price Per Unit Total Spent  Payment Method  \\\n",
       "0    TXN_1961373  Coffee        2            2.0         4.0     Credit Card   \n",
       "1    TXN_4977031    Cake        4            3.0        12.0            Cash   \n",
       "2    TXN_4271903  Cookie        4            1.0       ERROR     Credit Card   \n",
       "3    TXN_7034554   Salad        2            5.0        10.0         UNKNOWN   \n",
       "4    TXN_3160411  Coffee        2            2.0         4.0  Digital Wallet   \n",
       "\n",
       "   Location Transaction Date  \n",
       "0  Takeaway       2023-09-08  \n",
       "1  In-store       2023-05-16  \n",
       "2  In-store       2023-07-19  \n",
       "3   UNKNOWN       2023-04-27  \n",
       "4  In-store       2023-06-11  "
      ]
     },
     "execution_count": 8,
     "metadata": {},
     "output_type": "execute_result"
    }
   ],
   "source": [
    "data = pd.read_csv(\"E:\\Projects 25\\cafe-Complete\\\\dirty_cafe_sales.csv\")\n",
    "\n",
    "data.head()"
   ]
  },
  {
   "cell_type": "markdown",
   "id": "9cda302b",
   "metadata": {},
   "source": [
    "Clean column names make your code easier to read, write, and debug. They also ensure compatibility with functions that expect syntactically valid identifiers."
   ]
  },
  {
   "cell_type": "markdown",
   "id": "099921f1",
   "metadata": {},
   "source": [
    "Step 1: Normalize columns names"
   ]
  },
  {
   "cell_type": "code",
   "execution_count": null,
   "id": "0ef660ee",
   "metadata": {},
   "outputs": [
    {
     "data": {
      "text/html": [
       "<pre style=\"white-space:pre;overflow-x:auto;line-height:normal;font-family:Menlo,'DejaVu Sans Mono',consolas,'Courier New',monospace\">╭──────────────────────────────────────────────── skimpy summary ─────────────────────────────────────────────────╮\n",
       "│ <span style=\"font-style: italic\">         Data Summary         </span> <span style=\"font-style: italic\">      Data Types       </span>                                                          │\n",
       "│ ┏━━━━━━━━━━━━━━━━━━━┳━━━━━━━━┓ ┏━━━━━━━━━━━━━┳━━━━━━━┓                                                          │\n",
       "│ ┃<span style=\"color: #008080; text-decoration-color: #008080; font-weight: bold\"> Dataframe         </span>┃<span style=\"color: #008080; text-decoration-color: #008080; font-weight: bold\"> Values </span>┃ ┃<span style=\"color: #008080; text-decoration-color: #008080; font-weight: bold\"> Column Type </span>┃<span style=\"color: #008080; text-decoration-color: #008080; font-weight: bold\"> Count </span>┃                                                          │\n",
       "│ ┡━━━━━━━━━━━━━━━━━━━╇━━━━━━━━┩ ┡━━━━━━━━━━━━━╇━━━━━━━┩                                                          │\n",
       "│ │ Number of rows    │ 10000  │ │ string      │ 8     │                                                          │\n",
       "│ │ Number of columns │ 8      │ └─────────────┴───────┘                                                          │\n",
       "│ └───────────────────┴────────┘                                                                                  │\n",
       "│ <span style=\"font-style: italic\">                                                    string                                                    </span>  │\n",
       "│ ┏━━━━━━━━━━━┳━━━━━━┳━━━━━━━┳━━━━━━━━━━━┳━━━━━━━━━━━┳━━━━━━━━━━━┳━━━━━━━━━━━┳━━━━━━━━━━┳━━━━━━━━━━━┳━━━━━━━━━━┓  │\n",
       "│ ┃<span style=\"font-weight: bold\">           </span>┃<span style=\"font-weight: bold\">      </span>┃<span style=\"font-weight: bold\">       </span>┃<span style=\"font-weight: bold\">           </span>┃<span style=\"font-weight: bold\">           </span>┃<span style=\"font-weight: bold\">           </span>┃<span style=\"font-weight: bold\">           </span>┃<span style=\"font-weight: bold\"> chars    </span>┃<span style=\"font-weight: bold\"> words per </span>┃<span style=\"font-weight: bold\"> total    </span>┃  │\n",
       "│ ┃<span style=\"font-weight: bold\"> column    </span>┃<span style=\"font-weight: bold\"> NA   </span>┃<span style=\"font-weight: bold\"> NA %  </span>┃<span style=\"font-weight: bold\"> shortest  </span>┃<span style=\"font-weight: bold\"> longest   </span>┃<span style=\"font-weight: bold\"> min       </span>┃<span style=\"font-weight: bold\"> max       </span>┃<span style=\"font-weight: bold\"> per row  </span>┃<span style=\"font-weight: bold\"> row       </span>┃<span style=\"font-weight: bold\"> words    </span>┃  │\n",
       "│ ┡━━━━━━━━━━━╇━━━━━━╇━━━━━━━╇━━━━━━━━━━━╇━━━━━━━━━━━╇━━━━━━━━━━━╇━━━━━━━━━━━╇━━━━━━━━━━╇━━━━━━━━━━━╇━━━━━━━━━━┩  │\n",
       "│ │ <span style=\"color: #af87ff; text-decoration-color: #af87ff\">transacti</span> │ <span style=\"color: #008080; text-decoration-color: #008080\">   0</span> │ <span style=\"color: #008080; text-decoration-color: #008080\">    0</span> │ <span style=\"color: #af87ff; text-decoration-color: #af87ff\">TXN_19613</span> │ <span style=\"color: #af87ff; text-decoration-color: #af87ff\">TXN_19613</span> │ <span style=\"color: #af87ff; text-decoration-color: #af87ff\">TXN_10005</span> │ <span style=\"color: #af87ff; text-decoration-color: #af87ff\">TXN_99991</span> │ <span style=\"color: #008080; text-decoration-color: #008080\">      11</span> │ <span style=\"color: #008080; text-decoration-color: #008080\">        1</span> │ <span style=\"color: #008080; text-decoration-color: #008080\">   10000</span> │  │\n",
       "│ │ <span style=\"color: #af87ff; text-decoration-color: #af87ff\">on_id    </span> │      │       │ <span style=\"color: #af87ff; text-decoration-color: #af87ff\">73       </span> │ <span style=\"color: #af87ff; text-decoration-color: #af87ff\">73       </span> │ <span style=\"color: #af87ff; text-decoration-color: #af87ff\">55       </span> │ <span style=\"color: #af87ff; text-decoration-color: #af87ff\">24       </span> │          │           │          │  │\n",
       "│ │ <span style=\"color: #af87ff; text-decoration-color: #af87ff\">item     </span> │ <span style=\"color: #008080; text-decoration-color: #008080\"> 333</span> │ <span style=\"color: #008080; text-decoration-color: #008080\"> 3.33</span> │ <span style=\"color: #af87ff; text-decoration-color: #af87ff\">Tea      </span> │ <span style=\"color: #af87ff; text-decoration-color: #af87ff\">Smoothie </span> │ <span style=\"color: #af87ff; text-decoration-color: #af87ff\">Cake     </span> │ <span style=\"color: #af87ff; text-decoration-color: #af87ff\">UNKNOWN  </span> │ <span style=\"color: #008080; text-decoration-color: #008080\">    5.65</span> │ <span style=\"color: #008080; text-decoration-color: #008080\">     0.97</span> │ <span style=\"color: #008080; text-decoration-color: #008080\">    9667</span> │  │\n",
       "│ │ <span style=\"color: #af87ff; text-decoration-color: #af87ff\">quantity </span> │ <span style=\"color: #008080; text-decoration-color: #008080\"> 138</span> │ <span style=\"color: #008080; text-decoration-color: #008080\"> 1.38</span> │ <span style=\"color: #af87ff; text-decoration-color: #af87ff\">2        </span> │ <span style=\"color: #af87ff; text-decoration-color: #af87ff\">UNKNOWN  </span> │ <span style=\"color: #af87ff; text-decoration-color: #af87ff\">1        </span> │ <span style=\"color: #af87ff; text-decoration-color: #af87ff\">UNKNOWN  </span> │ <span style=\"color: #008080; text-decoration-color: #008080\">    1.17</span> │ <span style=\"color: #008080; text-decoration-color: #008080\">     0.99</span> │ <span style=\"color: #008080; text-decoration-color: #008080\">    9862</span> │  │\n",
       "│ │ <span style=\"color: #af87ff; text-decoration-color: #af87ff\">price_per</span> │ <span style=\"color: #008080; text-decoration-color: #008080\"> 179</span> │ <span style=\"color: #008080; text-decoration-color: #008080\"> 1.79</span> │ <span style=\"color: #af87ff; text-decoration-color: #af87ff\">2.0      </span> │ <span style=\"color: #af87ff; text-decoration-color: #af87ff\">UNKNOWN  </span> │ <span style=\"color: #af87ff; text-decoration-color: #af87ff\">1.0      </span> │ <span style=\"color: #af87ff; text-decoration-color: #af87ff\">UNKNOWN  </span> │ <span style=\"color: #008080; text-decoration-color: #008080\">    3.11</span> │ <span style=\"color: #008080; text-decoration-color: #008080\">     0.98</span> │ <span style=\"color: #008080; text-decoration-color: #008080\">    9821</span> │  │\n",
       "│ │ <span style=\"color: #af87ff; text-decoration-color: #af87ff\">_unit    </span> │      │       │           │           │           │           │          │           │          │  │\n",
       "│ │ <span style=\"color: #af87ff; text-decoration-color: #af87ff\">total_spe</span> │ <span style=\"color: #008080; text-decoration-color: #008080\"> 173</span> │ <span style=\"color: #008080; text-decoration-color: #008080\"> 1.73</span> │ <span style=\"color: #af87ff; text-decoration-color: #af87ff\">4.0      </span> │ <span style=\"color: #af87ff; text-decoration-color: #af87ff\">UNKNOWN  </span> │ <span style=\"color: #af87ff; text-decoration-color: #af87ff\">1.0      </span> │ <span style=\"color: #af87ff; text-decoration-color: #af87ff\">UNKNOWN  </span> │ <span style=\"color: #008080; text-decoration-color: #008080\">    3.47</span> │ <span style=\"color: #008080; text-decoration-color: #008080\">     0.98</span> │ <span style=\"color: #008080; text-decoration-color: #008080\">    9827</span> │  │\n",
       "│ │ <span style=\"color: #af87ff; text-decoration-color: #af87ff\">nt       </span> │      │       │           │           │           │           │          │           │          │  │\n",
       "│ │ <span style=\"color: #af87ff; text-decoration-color: #af87ff\">payment_m</span> │ <span style=\"color: #008080; text-decoration-color: #008080\">2579</span> │ <span style=\"color: #008080; text-decoration-color: #008080\">25.79</span> │ <span style=\"color: #af87ff; text-decoration-color: #af87ff\">Cash     </span> │ <span style=\"color: #af87ff; text-decoration-color: #af87ff\">Digital  </span> │ <span style=\"color: #af87ff; text-decoration-color: #af87ff\">Cash     </span> │ <span style=\"color: #af87ff; text-decoration-color: #af87ff\">UNKNOWN  </span> │ <span style=\"color: #008080; text-decoration-color: #008080\">    9.39</span> │ <span style=\"color: #008080; text-decoration-color: #008080\">      1.2</span> │ <span style=\"color: #008080; text-decoration-color: #008080\">   11985</span> │  │\n",
       "│ │ <span style=\"color: #af87ff; text-decoration-color: #af87ff\">ethod    </span> │      │       │           │ <span style=\"color: #af87ff; text-decoration-color: #af87ff\">Wallet   </span> │           │           │          │           │          │  │\n",
       "│ │ <span style=\"color: #af87ff; text-decoration-color: #af87ff\">location </span> │ <span style=\"color: #008080; text-decoration-color: #008080\">3265</span> │ <span style=\"color: #008080; text-decoration-color: #008080\">32.65</span> │ <span style=\"color: #af87ff; text-decoration-color: #af87ff\">ERROR    </span> │ <span style=\"color: #af87ff; text-decoration-color: #af87ff\">Takeaway </span> │ <span style=\"color: #af87ff; text-decoration-color: #af87ff\">ERROR    </span> │ <span style=\"color: #af87ff; text-decoration-color: #af87ff\">UNKNOWN  </span> │ <span style=\"color: #008080; text-decoration-color: #008080\">    7.79</span> │ <span style=\"color: #008080; text-decoration-color: #008080\">     0.67</span> │ <span style=\"color: #008080; text-decoration-color: #008080\">    6735</span> │  │\n",
       "│ │ <span style=\"color: #af87ff; text-decoration-color: #af87ff\">transacti</span> │ <span style=\"color: #008080; text-decoration-color: #008080\"> 159</span> │ <span style=\"color: #008080; text-decoration-color: #008080\"> 1.59</span> │ <span style=\"color: #af87ff; text-decoration-color: #af87ff\">ERROR    </span> │ <span style=\"color: #af87ff; text-decoration-color: #af87ff\">2023-09-0</span> │ <span style=\"color: #af87ff; text-decoration-color: #af87ff\">2023-01-0</span> │ <span style=\"color: #af87ff; text-decoration-color: #af87ff\">UNKNOWN  </span> │ <span style=\"color: #008080; text-decoration-color: #008080\">    9.88</span> │ <span style=\"color: #008080; text-decoration-color: #008080\">     0.98</span> │ <span style=\"color: #008080; text-decoration-color: #008080\">    9841</span> │  │\n",
       "│ │ <span style=\"color: #af87ff; text-decoration-color: #af87ff\">on_date  </span> │      │       │           │ <span style=\"color: #af87ff; text-decoration-color: #af87ff\">8        </span> │ <span style=\"color: #af87ff; text-decoration-color: #af87ff\">1        </span> │           │          │           │          │  │\n",
       "│ └───────────┴──────┴───────┴───────────┴───────────┴───────────┴───────────┴──────────┴───────────┴──────────┘  │\n",
       "╰────────────────────────────────────────────────────── End ──────────────────────────────────────────────────────╯\n",
       "</pre>\n"
      ],
      "text/plain": [
       "╭──────────────────────────────────────────────── skimpy summary ─────────────────────────────────────────────────╮\n",
       "│ \u001b[3m         Data Summary         \u001b[0m \u001b[3m      Data Types       \u001b[0m                                                          │\n",
       "│ ┏━━━━━━━━━━━━━━━━━━━┳━━━━━━━━┓ ┏━━━━━━━━━━━━━┳━━━━━━━┓                                                          │\n",
       "│ ┃\u001b[1;36m \u001b[0m\u001b[1;36mDataframe        \u001b[0m\u001b[1;36m \u001b[0m┃\u001b[1;36m \u001b[0m\u001b[1;36mValues\u001b[0m\u001b[1;36m \u001b[0m┃ ┃\u001b[1;36m \u001b[0m\u001b[1;36mColumn Type\u001b[0m\u001b[1;36m \u001b[0m┃\u001b[1;36m \u001b[0m\u001b[1;36mCount\u001b[0m\u001b[1;36m \u001b[0m┃                                                          │\n",
       "│ ┡━━━━━━━━━━━━━━━━━━━╇━━━━━━━━┩ ┡━━━━━━━━━━━━━╇━━━━━━━┩                                                          │\n",
       "│ │ Number of rows    │ 10000  │ │ string      │ 8     │                                                          │\n",
       "│ │ Number of columns │ 8      │ └─────────────┴───────┘                                                          │\n",
       "│ └───────────────────┴────────┘                                                                                  │\n",
       "│ \u001b[3m                                                    string                                                    \u001b[0m  │\n",
       "│ ┏━━━━━━━━━━━┳━━━━━━┳━━━━━━━┳━━━━━━━━━━━┳━━━━━━━━━━━┳━━━━━━━━━━━┳━━━━━━━━━━━┳━━━━━━━━━━┳━━━━━━━━━━━┳━━━━━━━━━━┓  │\n",
       "│ ┃\u001b[1m           \u001b[0m┃\u001b[1m      \u001b[0m┃\u001b[1m       \u001b[0m┃\u001b[1m           \u001b[0m┃\u001b[1m           \u001b[0m┃\u001b[1m           \u001b[0m┃\u001b[1m           \u001b[0m┃\u001b[1m \u001b[0m\u001b[1mchars   \u001b[0m\u001b[1m \u001b[0m┃\u001b[1m \u001b[0m\u001b[1mwords per\u001b[0m\u001b[1m \u001b[0m┃\u001b[1m \u001b[0m\u001b[1mtotal   \u001b[0m\u001b[1m \u001b[0m┃  │\n",
       "│ ┃\u001b[1m \u001b[0m\u001b[1mcolumn   \u001b[0m\u001b[1m \u001b[0m┃\u001b[1m \u001b[0m\u001b[1mNA  \u001b[0m\u001b[1m \u001b[0m┃\u001b[1m \u001b[0m\u001b[1mNA % \u001b[0m\u001b[1m \u001b[0m┃\u001b[1m \u001b[0m\u001b[1mshortest \u001b[0m\u001b[1m \u001b[0m┃\u001b[1m \u001b[0m\u001b[1mlongest  \u001b[0m\u001b[1m \u001b[0m┃\u001b[1m \u001b[0m\u001b[1mmin      \u001b[0m\u001b[1m \u001b[0m┃\u001b[1m \u001b[0m\u001b[1mmax      \u001b[0m\u001b[1m \u001b[0m┃\u001b[1m \u001b[0m\u001b[1mper row \u001b[0m\u001b[1m \u001b[0m┃\u001b[1m \u001b[0m\u001b[1mrow      \u001b[0m\u001b[1m \u001b[0m┃\u001b[1m \u001b[0m\u001b[1mwords   \u001b[0m\u001b[1m \u001b[0m┃  │\n",
       "│ ┡━━━━━━━━━━━╇━━━━━━╇━━━━━━━╇━━━━━━━━━━━╇━━━━━━━━━━━╇━━━━━━━━━━━╇━━━━━━━━━━━╇━━━━━━━━━━╇━━━━━━━━━━━╇━━━━━━━━━━┩  │\n",
       "│ │ \u001b[38;5;141mtransacti\u001b[0m │ \u001b[36m   0\u001b[0m │ \u001b[36m    0\u001b[0m │ \u001b[38;5;141mTXN_19613\u001b[0m │ \u001b[38;5;141mTXN_19613\u001b[0m │ \u001b[38;5;141mTXN_10005\u001b[0m │ \u001b[38;5;141mTXN_99991\u001b[0m │ \u001b[36m      11\u001b[0m │ \u001b[36m        1\u001b[0m │ \u001b[36m   10000\u001b[0m │  │\n",
       "│ │ \u001b[38;5;141mon_id    \u001b[0m │      │       │ \u001b[38;5;141m73       \u001b[0m │ \u001b[38;5;141m73       \u001b[0m │ \u001b[38;5;141m55       \u001b[0m │ \u001b[38;5;141m24       \u001b[0m │          │           │          │  │\n",
       "│ │ \u001b[38;5;141mitem     \u001b[0m │ \u001b[36m 333\u001b[0m │ \u001b[36m 3.33\u001b[0m │ \u001b[38;5;141mTea      \u001b[0m │ \u001b[38;5;141mSmoothie \u001b[0m │ \u001b[38;5;141mCake     \u001b[0m │ \u001b[38;5;141mUNKNOWN  \u001b[0m │ \u001b[36m    5.65\u001b[0m │ \u001b[36m     0.97\u001b[0m │ \u001b[36m    9667\u001b[0m │  │\n",
       "│ │ \u001b[38;5;141mquantity \u001b[0m │ \u001b[36m 138\u001b[0m │ \u001b[36m 1.38\u001b[0m │ \u001b[38;5;141m2        \u001b[0m │ \u001b[38;5;141mUNKNOWN  \u001b[0m │ \u001b[38;5;141m1        \u001b[0m │ \u001b[38;5;141mUNKNOWN  \u001b[0m │ \u001b[36m    1.17\u001b[0m │ \u001b[36m     0.99\u001b[0m │ \u001b[36m    9862\u001b[0m │  │\n",
       "│ │ \u001b[38;5;141mprice_per\u001b[0m │ \u001b[36m 179\u001b[0m │ \u001b[36m 1.79\u001b[0m │ \u001b[38;5;141m2.0      \u001b[0m │ \u001b[38;5;141mUNKNOWN  \u001b[0m │ \u001b[38;5;141m1.0      \u001b[0m │ \u001b[38;5;141mUNKNOWN  \u001b[0m │ \u001b[36m    3.11\u001b[0m │ \u001b[36m     0.98\u001b[0m │ \u001b[36m    9821\u001b[0m │  │\n",
       "│ │ \u001b[38;5;141m_unit    \u001b[0m │      │       │           │           │           │           │          │           │          │  │\n",
       "│ │ \u001b[38;5;141mtotal_spe\u001b[0m │ \u001b[36m 173\u001b[0m │ \u001b[36m 1.73\u001b[0m │ \u001b[38;5;141m4.0      \u001b[0m │ \u001b[38;5;141mUNKNOWN  \u001b[0m │ \u001b[38;5;141m1.0      \u001b[0m │ \u001b[38;5;141mUNKNOWN  \u001b[0m │ \u001b[36m    3.47\u001b[0m │ \u001b[36m     0.98\u001b[0m │ \u001b[36m    9827\u001b[0m │  │\n",
       "│ │ \u001b[38;5;141mnt       \u001b[0m │      │       │           │           │           │           │          │           │          │  │\n",
       "│ │ \u001b[38;5;141mpayment_m\u001b[0m │ \u001b[36m2579\u001b[0m │ \u001b[36m25.79\u001b[0m │ \u001b[38;5;141mCash     \u001b[0m │ \u001b[38;5;141mDigital  \u001b[0m │ \u001b[38;5;141mCash     \u001b[0m │ \u001b[38;5;141mUNKNOWN  \u001b[0m │ \u001b[36m    9.39\u001b[0m │ \u001b[36m      1.2\u001b[0m │ \u001b[36m   11985\u001b[0m │  │\n",
       "│ │ \u001b[38;5;141method    \u001b[0m │      │       │           │ \u001b[38;5;141mWallet   \u001b[0m │           │           │          │           │          │  │\n",
       "│ │ \u001b[38;5;141mlocation \u001b[0m │ \u001b[36m3265\u001b[0m │ \u001b[36m32.65\u001b[0m │ \u001b[38;5;141mERROR    \u001b[0m │ \u001b[38;5;141mTakeaway \u001b[0m │ \u001b[38;5;141mERROR    \u001b[0m │ \u001b[38;5;141mUNKNOWN  \u001b[0m │ \u001b[36m    7.79\u001b[0m │ \u001b[36m     0.67\u001b[0m │ \u001b[36m    6735\u001b[0m │  │\n",
       "│ │ \u001b[38;5;141mtransacti\u001b[0m │ \u001b[36m 159\u001b[0m │ \u001b[36m 1.59\u001b[0m │ \u001b[38;5;141mERROR    \u001b[0m │ \u001b[38;5;141m2023-09-0\u001b[0m │ \u001b[38;5;141m2023-01-0\u001b[0m │ \u001b[38;5;141mUNKNOWN  \u001b[0m │ \u001b[36m    9.88\u001b[0m │ \u001b[36m     0.98\u001b[0m │ \u001b[36m    9841\u001b[0m │  │\n",
       "│ │ \u001b[38;5;141mon_date  \u001b[0m │      │       │           │ \u001b[38;5;141m8        \u001b[0m │ \u001b[38;5;141m1        \u001b[0m │           │          │           │          │  │\n",
       "│ └───────────┴──────┴───────┴───────────┴───────────┴───────────┴───────────┴──────────┴───────────┴──────────┘  │\n",
       "╰────────────────────────────────────────────────────── End ──────────────────────────────────────────────────────╯\n"
      ]
     },
     "metadata": {},
     "output_type": "display_data"
    }
   ],
   "source": [
    "data = data.clean_names()"
   ]
  },
  {
   "cell_type": "markdown",
   "id": "3f909165",
   "metadata": {},
   "source": [
    "Step 2: Flag Inconsistent Entries as Missing Values"
   ]
  },
  {
   "cell_type": "code",
   "execution_count": null,
   "id": "cc6585e2",
   "metadata": {},
   "outputs": [],
   "source": [
    "#Capturing Inconsistencies To Missing Values for Imputation \n",
    "\n",
    "nulls = [\"ERROR\",\"UNKNOWN\"]\n",
    "\n",
    "data.loc[data['item'].isin(nulls), 'item'] = np.nan\n",
    "data.loc[data['payment_method'].isin(nulls), 'payment_method'] = np.nan\n",
    "data.loc[data['location'].isin(nulls), 'location'] = np.nan\n",
    "data.loc[data['transaction_date'].isin(nulls), 'transaction_date'] = np.nan\n",
    "data.loc[data['quantity'].isin(nulls), 'quantity'] = np.nan\n",
    "data.loc[data['price_per_unit'].isin(nulls), 'price_per_unit'] = np.nan\n",
    "data.loc[data['total_spent'].isin(nulls), 'total_spent'] = np.nan\n"
   ]
  },
  {
   "cell_type": "markdown",
   "id": "cff3874e",
   "metadata": {},
   "source": [
    "Logic & Purpose: In this dataset, certain fields contain placeholder values like \"ERROR\" or \"UNKNOWN\" — these are not valid data points and should not be treated as real entries. Instead of analyzing them directly, we convert these inconsistencies into NaN (missing values), which allows us to:\n",
    "\n",
    "✅ Treat them uniformly during imputation\n",
    "\n",
    "✅ Leverage pandas’ built-in missing data handling\n",
    "\n",
    "✅ Avoid skewing statistics with invalid entries\n",
    "\n",
    "Why This Matters: By explicitly marking these entries as missing, we streamline the cleaning process and ensure that imputation logic (e.g., filling with median, calculating from other columns) can be applied consistently. This step also improves transparency in how data quality issues are handled."
   ]
  },
  {
   "cell_type": "markdown",
   "id": "ae850b58",
   "metadata": {},
   "source": [
    "Step 3: Convert transaction_date to Datetime Format"
   ]
  },
  {
   "cell_type": "code",
   "execution_count": null,
   "id": "ae7ef39b",
   "metadata": {},
   "outputs": [],
   "source": [
    "#Converting transaction_date to a datetime variable for Time-Series Analysis\n",
    "data['transaction_date'] = pd.to_datetime(data['transaction_date'],errors='coerce')"
   ]
  },
  {
   "cell_type": "markdown",
   "id": "56aebc25",
   "metadata": {},
   "source": [
    "Logic & Purpose: To perform time-based analysis — such as monthly revenue trends, seasonal patterns, or daily sales peaks — the transaction_date column must be in a proper datetime format. This transformation enables:\n",
    "\n",
    "🗓️ Resampling by day, week, or month\n",
    "\n",
    "📈 Plotting time-series graphs\n",
    "\n",
    "📊 Grouping transactions over time intervals\n",
    "\n",
    "Why errors='coerce'? Some entries may contain invalid or corrupted date strings. Setting errors='coerce' ensures that these are safely converted to NaT (Not a Time), which can then be handled as missing values during cleaning or excluded from time-based plots.\n",
    "\n",
    "Outcome: This step prepares the dataset for robust time-series visualizations, such as:\n",
    "\n",
    "Monthly revenue performance\n",
    "\n",
    "Daily transaction volume\n",
    "\n",
    "Seasonal product demand"
   ]
  },
  {
   "cell_type": "markdown",
   "id": "cfcd0c6b",
   "metadata": {},
   "source": [
    "Step 4: Impute Missing transaction_date with the Median"
   ]
  },
  {
   "cell_type": "code",
   "execution_count": null,
   "id": "72732373",
   "metadata": {},
   "outputs": [],
   "source": [
    "#Imputation transaction date with the Most Common Variable\n",
    "median_date = data['transaction_date'].median()  \n",
    "data.fillna({'transaction_date': median_date}, inplace=True)"
   ]
  },
  {
   "cell_type": "markdown",
   "id": "13e1365a",
   "metadata": {},
   "source": [
    "Logic & Purpose: After converting transaction_date to datetime format, some entries were flagged as missing (NaT) due to invalid or inconsistent values. Rather than dropping these rows — which could result in losing valuable sales data — we impute the missing dates using the median date from the dataset.\n",
    "\n",
    "Why Median?\n",
    "\n",
    "🧭 The median is robust to outliers and skewed distributions\n",
    "\n",
    "📈 It preserves the central tendency of the time-series\n",
    "\n",
    "🧹 It ensures continuity in trend analysis without introducing artificial spikes\n",
    "\n",
    "Outcome: This step ensures that all transactions have a valid timestamp, enabling consistent time-based grouping (e.g., monthly revenue trends) and avoiding gaps in visualization"
   ]
  },
  {
   "cell_type": "markdown",
   "id": "7e39102a",
   "metadata": {},
   "source": [
    "Step 5: Remove Records Missing Critical Transaction Data"
   ]
  },
  {
   "cell_type": "code",
   "execution_count": null,
   "id": "9ad833b5",
   "metadata": {},
   "outputs": [],
   "source": [
    "#Deleting Records whereby Key Data is missing from the records to avoid skewing data \n",
    "data = data.dropna(subset=['quantity','price_per_unit'], how='all')\n",
    "data = data.dropna(subset=['quantity','total_spent'], how='all')\n",
    "data = data.dropna(subset=['total_spent','price_per_unit'], how='all')"
   ]
  },
  {
   "cell_type": "markdown",
   "id": "79ab3194",
   "metadata": {},
   "source": [
    "Logic & Purpose: This step removes rows where key transactional fields — quantity, price_per_unit, or total_spent — are entirely missing. These fields are essential for calculating revenue, averages, and performance metrics. If all values in a pair are missing, the record cannot be salvaged or imputed logically.\n",
    "\n",
    "Why Drop Instead of Impute?\n",
    "\n",
    "🔍 These fields are interdependent (e.g., total_spent = quantity × price_per_unit)\n",
    "\n",
    "❌ If both components are missing, there's no reliable way to reconstruct the transaction\n",
    "\n",
    "📉 Keeping such records would distort metrics like average price or total revenue\n",
    "\n",
    "Outcome: By removing these unusable rows, we improve data quality and ensure that subsequent calculations are based on complete and trustworthy information."
   ]
  },
  {
   "cell_type": "markdown",
   "id": "13de643e",
   "metadata": {},
   "source": [
    "Step 6: Convert Transaction Fields to Numeric Format"
   ]
  },
  {
   "cell_type": "code",
   "execution_count": null,
   "id": "8f42e5dd",
   "metadata": {},
   "outputs": [],
   "source": [
    "#Converting quantity,price_per_unit,total_spent to numerical values for Revenu Analysis\n",
    "data['quantity'] = pd.to_numeric(data['quantity'],errors='coerce')\n",
    "data['price_per_unit'] = pd.to_numeric(data['price_per_unit'],errors='coerce')\n",
    "data['total_spent'] = pd.to_numeric(data['total_spent'],errors='coerce')\n"
   ]
  },
  {
   "cell_type": "markdown",
   "id": "e6ffcaff",
   "metadata": {},
   "source": [
    "Logic & Purpose: To perform accurate revenue analysis — including calculating totals, averages, and trends — the fields quantity, price_per_unit, and total_spent must be in numeric format. This step ensures that all values are treated as numbers, not strings or mixed types.\n",
    "\n",
    "Why errors='coerce'?\n",
    "\n",
    "Automatically converts non-numeric entries (e.g., \"ERROR\", \"UNKNOWN\") into NaN\n",
    "\n",
    "Prevents runtime errors during calculations\n",
    "\n",
    "Flags problematic entries for later imputation or removal\n",
    "\n",
    "Outcome: This transformation prepares the dataset for reliable financial analysis, enabling operations like:\n",
    "\n",
    "💰 Revenue aggregation\n",
    "\n",
    "📊 Average price calculations\n",
    "\n",
    "📈 Time-series revenue trends\n",
    "\n",
    "📉 Identifying underperforming products"
   ]
  },
  {
   "cell_type": "markdown",
   "id": "62c798d0",
   "metadata": {},
   "source": [
    "Step 7: Impute Missing Transaction Values Using Interdependent Columns"
   ]
  },
  {
   "cell_type": "code",
   "execution_count": null,
   "id": "beaf7957",
   "metadata": {},
   "outputs": [],
   "source": [
    "sk.skim(data)"
   ]
  },
  {
   "cell_type": "code",
   "execution_count": null,
   "id": "18469401",
   "metadata": {},
   "outputs": [],
   "source": [
    "#Filling In data using Current data \n",
    "data['total_spent'] = data['total_spent'].fillna(data['quantity'] * data['price_per_unit'])\n",
    "data['quantity'] = data['quantity'].fillna(data['total_spent'] / data['price_per_unit'])\n",
    "data['price_per_unit'] = data['price_per_unit'].fillna(data['total_spent'] / data['quantity'])"
   ]
  },
  {
   "cell_type": "markdown",
   "id": "b495c921",
   "metadata": {},
   "source": [
    "Logic & Purpose: The three core transaction fields — quantity, price_per_unit, and total_spent — are mathematically interdependent:\n",
    "\n",
    "total_spent = quantity × price_per_unit\n",
    "\n",
    "quantity = total_spent ÷ price_per_unit\n",
    "\n",
    "price_per_unit = total_spent ÷ quantity\n",
    "\n",
    "This relationship allows us to intelligently fill in missing values when at least two of the three fields are present. Instead of discarding incomplete records, we reconstruct the missing value using the available data.\n",
    "\n",
    "Why This Works:\n",
    "\n",
    "🧠 It’s a logic-based imputation, not a guess\n",
    "\n",
    "💡 It preserves the financial integrity of each transaction\n",
    "\n",
    "📊 It ensures that revenue calculations remain accurate and complete\n",
    "\n",
    "Outcome: This step salvages partially missing records and strengthens the dataset for reliable revenue analysis, without introducing bias or arbitrary estimates."
   ]
  },
  {
   "cell_type": "markdown",
   "id": "f38c4c80",
   "metadata": {},
   "source": [
    "Step 8: Replace Missing Categorical Values with Standard Placeholders"
   ]
  },
  {
   "cell_type": "code",
   "execution_count": null,
   "id": "801b57ad",
   "metadata": {},
   "outputs": [],
   "source": [
    "#Establishing Null Values to A common Description \n",
    "data['item'] = data['item'].fillna('Other')\n",
    "data['payment_method'] = data['payment_method'].fillna('Undefined')\n",
    "data['location'] = data['location'].fillna(\"Undefined\")"
   ]
  },
  {
   "cell_type": "markdown",
   "id": "eea87261",
   "metadata": {},
   "source": [
    "Logic & Purpose: After identifying and converting inconsistent entries (\"ERROR\", \"UNKNOWN\") to NaN, we assign meaningful placeholder values to missing categorical fields. This ensures that:\n",
    "\n",
    "🧾 All records remain usable for grouping and analysis\n",
    "\n",
    "📊 Visualizations and summaries don’t break due to missing categories\n",
    "\n",
    "🧠 The placeholders signal data quality issues without discarding valuable rows\n",
    "\n",
    "Why These Labels?\n",
    "\n",
    "\"Other\" for item: Indicates an unclassified or unknown product\n",
    "\n",
    "\"Undefined\" for payment_method and location: Flags incomplete data while preserving transaction context\n",
    "\n",
    "Outcome: This step improves dataset completeness and analytical flexibility, especially when generating bar charts, pie charts, or grouped summaries by item, payment method, or location."
   ]
  },
  {
   "cell_type": "code",
   "execution_count": null,
   "id": "8e1cdd3d",
   "metadata": {},
   "outputs": [
    {
     "name": "stderr",
     "output_type": "stream",
     "text": [
      "C:\\Users\\Prime\\AppData\\Local\\Temp\\ipykernel_2764\\3695430599.py:15: FutureWarning: \n",
      "\n",
      "Passing `palette` without assigning `hue` is deprecated and will be removed in v0.14.0. Assign the `x` variable to `hue` and set `legend=False` for the same effect.\n",
      "\n",
      "  sns.barplot(data=category_sales, x='item', y='total_spent', palette=\"viridis\")\n"
     ]
    },
    {
     "data": {
      "image/png": "[encoded data removed]",
      "text/plain": [
       "<Figure size 1000x900 with 1 Axes>"
      ]
     },
     "metadata": {},
     "output_type": "display_data"
    },
    {
     "name": "stderr",
     "output_type": "stream",
     "text": [
      "C:\\Users\\Prime\\AppData\\Local\\Temp\\ipykernel_2764\\3695430599.py:33: FutureWarning: \n",
      "\n",
      "Passing `palette` without assigning `hue` is deprecated and will be removed in v0.14.0. Assign the `x` variable to `hue` and set `legend=False` for the same effect.\n",
      "\n",
      "  sns.barplot(data=drinks_summary, x='item', y='total_revenue', ax=axes[0], palette=\"Blues_d\")\n",
      "C:\\Users\\Prime\\AppData\\Local\\Temp\\ipykernel_2764\\3695430599.py:38: FutureWarning: \n",
      "\n",
      "Passing `palette` without assigning `hue` is deprecated and will be removed in v0.14.0. Assign the `x` variable to `hue` and set `legend=False` for the same effect.\n",
      "\n",
      "  sns.barplot(data=drinks_summary, x='item', y='total_quantity', ax=axes[1], palette=\"Greens_d\")\n"
     ]
    },
    {
     "data": {
      "image/png": "[encoded data removed]",
      "text/plain": [
       "<Figure size 1200x500 with 2 Axes>"
      ]
     },
     "metadata": {},
     "output_type": "display_data"
    },
    {
     "name": "stderr",
     "output_type": "stream",
     "text": [
      "C:\\Users\\Prime\\AppData\\Local\\Temp\\ipykernel_2764\\3695430599.py:55: FutureWarning: \n",
      "\n",
      "Passing `palette` without assigning `hue` is deprecated and will be removed in v0.14.0. Assign the `x` variable to `hue` and set `legend=False` for the same effect.\n",
      "\n",
      "  sns.barplot(data=snacks_summary, x='item', y='total_revenue', ax=axes[0], palette=\"Reds_d\")\n",
      "C:\\Users\\Prime\\AppData\\Local\\Temp\\ipykernel_2764\\3695430599.py:60: FutureWarning: \n",
      "\n",
      "Passing `palette` without assigning `hue` is deprecated and will be removed in v0.14.0. Assign the `x` variable to `hue` and set `legend=False` for the same effect.\n",
      "\n",
      "  sns.barplot(data=snacks_summary, x='item', y='total_quantity', ax=axes[1], palette=\"Purples_d\")\n"
     ]
    },
    {
     "data": {
      "image/png": "[encoded data removed]",
      "text/plain": [
       "<Figure size 1200x500 with 2 Axes>"
      ]
     },
     "metadata": {},
     "output_type": "display_data"
    }
   ],
   "source": [
    "import seaborn as sns\n",
    "import matplotlib.pyplot as plt\n",
    "\n",
    "# Copy data\n",
    "df = data.copy()\n",
    "\n",
    "# Define categories\n",
    "drinks = ['Coffee','Juice','Tea','Smoothie']\n",
    "snacks = ['Cake','Cookie','Other','Salad','Sandwich']\n",
    "\n",
    "# --- Revenue by Item (all items) ---\n",
    "category_sales = df.groupby('item')['total_spent'].sum().reset_index()\n",
    "\n",
    "plt.figure(figsize=(10,9))\n",
    "sns.barplot(data=category_sales, x='item', y='total_spent', palette=\"viridis\")\n",
    "plt.title(\"Total Revenue by Item\")\n",
    "plt.xlabel(\"Item\")\n",
    "plt.ylabel(\"Total Revenue\")\n",
    "plt.xticks(rotation=45)\n",
    "\n",
    "plt.savefig(\"E:\\\\Projects 25\\\\cafe-Complete\\\\Images\\\\total_revenue_by_items.png\")\n",
    "plt.show()\n",
    "\n",
    "# --- Drinks: Revenue vs Quantity ---\n",
    "drinks_df = df[df['item'].isin(drinks)]\n",
    "drinks_summary = drinks_df.groupby('item').agg(\n",
    "    total_revenue=('total_spent','sum'),\n",
    "    total_quantity=('quantity','sum')\n",
    ").reset_index()\n",
    "\n",
    "fig, axes = plt.subplots(1,2, figsize=(12,5))\n",
    "\n",
    "sns.barplot(data=drinks_summary, x='item', y='total_revenue', ax=axes[0], palette=\"Blues_d\")\n",
    "axes[0].set_title(\"Drinks - Total Revenue\")\n",
    "axes[0].set_xlabel(\"Item\")\n",
    "axes[0].set_ylabel(\"Revenue\")\n",
    "\n",
    "sns.barplot(data=drinks_summary, x='item', y='total_quantity', ax=axes[1], palette=\"Greens_d\")\n",
    "axes[1].set_title(\"Drinks - Total Quantity Sold\")\n",
    "axes[1].set_xlabel(\"Item\")\n",
    "axes[1].set_ylabel(\"Quantity\")\n",
    "\n",
    "plt.tight_layout()\n",
    "plt.show()\n",
    "\n",
    "# --- Snacks: Revenue vs Quantity ---\n",
    "snacks_df = df[df['item'].isin(snacks)]\n",
    "snacks_summary = snacks_df.groupby('item').agg(\n",
    "    total_revenue=('total_spent','sum'),\n",
    "    total_quantity=('quantity','sum')\n",
    ").reset_index()\n",
    "\n",
    "fig, axes = plt.subplots(1,2, figsize=(12,5))\n",
    "\n",
    "sns.barplot(data=snacks_summary, x='item', y='total_revenue', ax=axes[0], palette=\"Reds_d\")\n",
    "axes[0].set_title(\"Snacks - Total Revenue\")\n",
    "axes[0].set_xlabel(\"Item\")\n",
    "axes[0].set_ylabel(\"Revenue\")\n",
    "\n",
    "sns.barplot(data=snacks_summary, x='item', y='total_quantity', ax=axes[1], palette=\"Purples_d\")\n",
    "axes[1].set_title(\"Snacks - Total Quantity Sold\")\n",
    "axes[1].set_xlabel(\"Item\")\n",
    "axes[1].set_ylabel(\"Quantity\")\n",
    "\n",
    "plt.tight_layout()\n",
    "plt.savefig(\"E:\\\\Projects 25\\\\cafe-Complete\\\\Images\\\\total_revenue_by_item.png\")\n",
    "plt.show()\n",
    "\n",
    "# Ensure transaction_date is datetime\n",
    "df['transaction_date'] = pd.to_datetime(df['transaction_date'], errors='coerce')\n",
    "\n",
    "# Extract month and year for grouping\n",
    "df['month'] = df['transaction_date'].dt.to_period('M').astype(str)\n",
    "\n",
    "# Group by item and month\n",
    "monthly_sales = df.groupby(['month', 'item'])['total_spent'].sum().reset_index()\n",
    "\n",
    "# Pivot for plotting\n",
    "pivot_sales = monthly_sales.pivot(index='month', columns='item', values='total_spent').fillna(0)\n",
    "\n",
    "# Plot\n",
    "plt.figure(figsize=(14,8))\n",
    "pivot_sales.plot(kind='line', marker='o', linewidth=2, figsize=(14,8), colormap='tab10')\n",
    "\n",
    "plt.title(\"Monthly Revenue Trends by Item\")\n",
    "plt.xlabel(\"Month\")\n",
    "plt.ylabel(\"Total Revenue\")\n",
    "plt.xticks(rotation=45)\n",
    "plt.grid(True)\n",
    "plt.legend(title='Item', bbox_to_anchor=(1.05, 1), loc='upper left')\n",
    "\n",
    "plt.tight_layout()\n",
    "plt.savefig(\"E:\\\\Projects 25\\\\cafe-Complete\\\\Images\\\\monthly_revenue_by_item.png\")\n",
    "plt.show()"
   ]
  },
  {
   "cell_type": "code",
   "execution_count": null,
   "id": "002d9804",
   "metadata": {},
   "outputs": [
    {
     "ename": "TypeError",
     "evalue": "skim() got an unexpected keyword argument 'verbose'",
     "output_type": "error",
     "traceback": [
      "\u001b[31m---------------------------------------------------------------------------\u001b[39m",
      "\u001b[31mTypeError\u001b[39m                                 Traceback (most recent call last)",
      "\u001b[36mCell\u001b[39m\u001b[36m \u001b[39m\u001b[32mIn[82]\u001b[39m\u001b[32m, line 12\u001b[39m\n\u001b[32m      9\u001b[39m readme_path = os.path.join(project_folder, \u001b[33m\"\u001b[39m\u001b[33mREADME.md\u001b[39m\u001b[33m\"\u001b[39m)\n\u001b[32m     11\u001b[39m \u001b[38;5;66;03m# --- Skimpy summary as Markdown ---\u001b[39;00m\n\u001b[32m---> \u001b[39m\u001b[32m12\u001b[39m skim_report = \u001b[43mskim\u001b[49m\u001b[43m(\u001b[49m\u001b[43mdata\u001b[49m\u001b[43m,\u001b[49m\u001b[43m \u001b[49m\u001b[43mverbose\u001b[49m\u001b[43m=\u001b[49m\u001b[32;43m0\u001b[39;49m\u001b[43m)\u001b[49m\n\u001b[32m     13\u001b[39m summary_df = skim_report.summary\n\u001b[32m     14\u001b[39m skim_md_table = summary_df.to_markdown(index=\u001b[38;5;28;01mFalse\u001b[39;00m)\n",
      "\u001b[31mTypeError\u001b[39m: skim() got an unexpected keyword argument 'verbose'"
     ]
    }
   ],
   "source": [
    "import pandas as pd\n",
    "import os\n",
    "\n",
    "# Project Directory Paths\n",
    "project_folder = r\"E:\\\\Projects 25\\\\cafe-Complete\\\\Images\"\n",
    "images_folder = os.path.join(project_folder, \"Images\")\n",
    "skimpy_report = rf'{project_folder}/skimpy_report.png'\n",
    "data_preview = rf'{project_folder}/data_preview.png'\n",
    "\n",
    "# --- Data Cleaning Issues Table ---\n",
    "issues = pd.DataFrame({\n",
    "    \"Column\": [\"item\", \"quantity\", \"price_per_unit\", \"total_spent\", \"payment_method\", \"location\", \"transaction_date\"],\n",
    "    \"Issue\": [\n",
    "        \"Contains 'ERROR', 'UNKNOWN' values\",\n",
    "        \"Missing values, partial or complete\",\n",
    "        \"Missing values, partial or complete\",\n",
    "        \"Missing values, partial or complete\",\n",
    "        \"Contains 'ERROR', 'UNKNOWN' values\",\n",
    "        \"Contains 'ERROR', 'UNKNOWN' values\",\n",
    "        \"Missing values\"\n",
    "    ],\n",
    "    \"Solution\": [\n",
    "        \"Replace errors with 'Other'\",\n",
    "        \"Impute using total_spent / price_per_unit or remove if all missing\",\n",
    "        \"Impute using total_spent / quantity\",\n",
    "        \"Impute using quantity * price_per_unit\",\n",
    "        \"Replace errors with 'Undefined'\",\n",
    "        \"Replace errors with 'Undefined'\",\n",
    "        \"Fill missing dates with median date\"\n",
    "    ]\n",
    "})\n",
    "issues_md = issues.to_markdown(index=False)\n",
    "\n",
    "# Define README file path\n",
    "readme_path = os.path.join(project_folder, \"README.md\")\n",
    "\n",
    "# --- Write README.md ---\n",
    "with open(readme_path, \"w\", encoding=\"utf-8\") as f:\n",
    "    f.write(\"# ☕ Cafe Sales Data Analysis\\n\\n\")\n",
    "    \n",
    "    # Business Value Proposition Section\n",
    "    f.write(\"## 📌 Business Value Proposition\\n\")\n",
    "    f.write(\"This project transforms raw cafe sales data into actionable business insights by cleaning inconsistencies, \"\n",
    "            \"analyzing sales performance, and visualizing key trends. Using Python, Pandas, DuckDB, Skimpy, Matplotlib, and Seaborn, \"\n",
    "            \"it highlights revenue drivers, identifies high-volume but low-revenue items, and uncovers opportunities for pricing, promotions, \"\n",
    "            \"and demand forecasting. The analysis empowers cafe managers to make data-driven decisions that optimize pricing, inventory, \"\n",
    "            \"and promotional strategies, ultimately driving revenue growth and customer satisfaction.\\n\\n\")\n",
    "    \n",
    "    # Tools & Libraries Section\n",
    "    f.write(\"## 🛠 Tools & Libraries\\n\")\n",
    "    f.write(\"- **Python**\\n\")\n",
    "    f.write(\"- **Pandas & DuckDB** (data cleaning, querying)\\n\")\n",
    "    f.write(\"- **Skimpy** (Exploratory Data Analysis & profiling)\\n\")\n",
    "    f.write(\"- **Matplotlib & Seaborn** (data visualization)\\n\\n\")\n",
    "\n",
    "    # Data Overview Section\n",
    "    f.write(\"## 📊 Data Overview\\n\")\n",
    "    f.write(\"### Column Meaning\\n\")\n",
    "    f.write(\"| Column Name      | Meaning                                                                 |\\n\")\n",
    "    f.write(\"|------------------|-------------------------------------------------------------------------|\\n\")\n",
    "    f.write(\"| **item**         | Product sold (e.g., Coffee, Cookie, Tea)                               |\\n\")\n",
    "    f.write(\"| **quantity**     | Number of units sold in the transaction                                |\\n\")\n",
    "    f.write(\"| **price_per_unit** | Price of one unit of the item sold                                     |\\n\")\n",
    "    f.write(\"| **total_spent**  | Total transaction value (quantity × price_per_unit)                    |\\n\")\n",
    "    f.write(\"| **payment_method** | Mode of payment (Cash, Card, Other; errors grouped as 'Undefined')    |\\n\")\n",
    "    f.write(\"| **location**     | Store branch/location of the transaction (errors grouped as 'Undefined')|\\n\")\n",
    "    f.write(\"| **transaction_date** | Date of the transaction (used for time-based sales trend analysis)   |\\n\\n\")\n",
    "\n",
    "    f.write(\"### Skimpy Report\\n\")\n",
    "    f.write(f\"![Skimpy Report]({skimpy_report})\\n\\n\")\n",
    "    \n",
    "    f.write(\"### Data Preview\\n\")\n",
    "    f.write(f\"![Data Preview]({data_preview})\\n\\n\")\n",
    "\n",
    "    # Data Cleaning Issues Section\n",
    "    f.write(\"## 🧹 Data Cleaning and Preprocessing\\n\")\n",
    "    f.write(\"### 3.1 Data Cleaning Issues\\n\")\n",
    "    f.write(\"Below is a summary of the data cleaning issues identified:\\n\\n\")\n",
    "    f.write(issues_md + \"\\n\\n\")\n",
    "    \n",
    "    # Data Exploration & Visualizations Section\n",
    "    f.write(\"## 📈 Data Exploration and Visualizations\\n\")\n",
    "    f.write(\"### 4.1 Total Revenue by Item\\n\")\n",
    "    f.write(f\"![Total Revenue by Item](./Images/total_revenue_by_item.png)\\n\\n\")\n",
    "    \n",
    "    f.write(\"### 4.2 Revenue vs Quantity\\n\")\n",
    "    f.write(f\"![Revenue vs Quantity](./Images/revenue_vs_quantity.png)\\n\\n\")\n",
    "    \n",
    "    f.write(\"### 4.3 Drinks Revenue\\n\")\n",
    "    f.write(f\"![Drinks - Total Revenue](./Images/drinks_revenue.png)\\n\\n\")\n",
    "\n",
    "    # Key Insights Section\n",
    "    f.write(\"## 🔑 Key Insights\\n\")\n",
    "    f.write(\"- Coffee generated the highest revenue (35% of sales), confirming it as the core revenue driver.\\n\")\n",
    "    f.write(\"- Tea & Cookies sold in high volumes (18% of transactions) but contributed only 6% of revenue → opportunity for price adjustment or bundling.\\n\")\n",
    "    f.write(\"- Drinks contributed 70% of total revenue, while Snacks offer cross-selling opportunities.\\n\")\n",
    "    f.write(\"- Card payments accounted for 65% of transactions, highlighting the shift towards digital payments.\\n\")\n",
    "    f.write(\"- Data quality issues (10% undefined location, 7% undefined payment method) limit deeper branch-level insights.\\n\\n\")\n",
    "    \n",
    "    # Suggested Strategies Section\n",
    "    f.write(\"## 🚀 Suggested Strategies to Improve Revenue\\n\")\n",
    "    f.write(\"- **Price optimization** for high-volume, low-revenue items like Tea and Cookies.\\n\")\n",
    "    f.write(\"- **Promotions or bundling** strategies to increase revenue from popular low-revenue items.\\n\")\n",
    "    f.write(\"- Pair time-series analysis with **forecasting models** to ensure that the cafe is always stocked with high-demand items.\\n\")\n",
    "    f.write(\"- **Target off-peak periods** with discounts (e.g., afternoon snacks) to smooth demand and increase sales.\\n\")\n",
    "    f.write(\"- **Promote digital loyalty programs** since card payments dominate.\\n\")\n",
    "    f.write(\"- **Improve data collection** by enforcing clean data entry for payment/location, enabling branch-level performance optimization.\\n\\n\")\n",
    "    \n",
    "    # Next Steps Section\n",
    "    f.write(\"## 🔮 Next Steps / Further Analysis\\n\")\n",
    "    f.write(\"- **Customer Segmentation** by items purchased.\\n\")\n",
    "    f.write(\"- Apply **time-series forecasting** for demand prediction.\\n\")\n",
    "    f.write(\"- Test **Market Basket Analysis** for cross-selling strategies.\\n\")\n",
    "    f.write(\"- Build an **interactive dashboard** using tools like **Streamlit** or **Power BI** to make insights accessible in real-time.\\n\\n\")\n",
    "\n",
    "    # Conclusion Section\n",
    "    f.write(\"## 🏁 Conclusion\\n\")\n",
    "    f.write(\"This analysis provides key insights into item-level performance, revenue contribution, and quantity sold. \"\n",
    "            \"It highlights opportunities to optimize revenue, improve pricing strategies, and enhance overall sales performance for the cafe.\\n\")\n",
    "\n",
    "print(f\"README.md has been successfully created at: {readme_path}\")\n"
   ]
  }
 ],
 "metadata": {
  "kernelspec": {
   "display_name": "Python 3",
   "language": "python",
   "name": "python3"
  },
  "language_info": {
   "codemirror_mode": {
    "name": "ipython",
    "version": 3
   },
   "file_extension": ".py",
   "mimetype": "text/x-python",
   "name": "python",
   "nbconvert_exporter": "python",
   "pygments_lexer": "ipython3",
   "version": "3.13.7"
  }
 },
 "nbformat": 4,
 "nbformat_minor": 5
}
